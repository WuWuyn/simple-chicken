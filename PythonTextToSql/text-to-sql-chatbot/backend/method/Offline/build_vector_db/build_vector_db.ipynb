{
 "cells": [
  {
   "cell_type": "markdown",
   "metadata": {},
   "source": [
    "# Luồng 0.1: Xây dựng Cơ sở dữ liệu Vector từ Schema\n",
    "\n",
    "**Mục tiêu:** Script này sẽ thực hiện các công việc sau:\n",
    "1.  Đọc và phân tích tệp `m-schema_final.txt` để trích xuất các mô tả (description) của bảng và cột.\n",
    "2.  Sử dụng mô hình ngôn ngữ từ `sentence-transformers` để chuyển đổi các mô tả này thành vector embeddings.\n",
    "3.  Lưu trữ các vector và metadata tương ứng vào một cơ sở dữ liệu vector (ChromaDB) trên đĩa.\n",
    "\n",
    "**Thư viện cần thiết:** `chromadb`, `sentence-transformers`, `regex`."
   ]
  },
  {
   "cell_type": "code",
   "execution_count": 1,
   "metadata": {},
   "outputs": [
    {
     "name": "stderr",
     "output_type": "stream",
     "text": [
      "c:\\Users\\Lenovo\\anaconda3\\envs\\t2sql\\lib\\site-packages\\tqdm\\auto.py:21: TqdmWarning: IProgress not found. Please update jupyter and ipywidgets. See https://ipywidgets.readthedocs.io/en/stable/user_install.html\n",
      "  from .autonotebook import tqdm as notebook_tqdm\n"
     ]
    }
   ],
   "source": [
    "import chromadb\n",
    "from sentence_transformers import SentenceTransformer\n",
    "import re\n",
    "import os\n",
    "\n",
    "# --- CONFIGURATION ---\n",
    "SCHEMA_FILE_PATH = 'm-schema_final.txt'\n",
    "VECTOR_DB_PATH = 'vector_database' # Thư mục để lưu trữ DB\n",
    "COLLECTION_NAME = 'schema_descriptions'\n",
    "MODEL_NAME = 'all-MiniLM-L6-v2' # Một mô hình phổ biến, nhẹ và hiệu quả"
   ]
  },
  {
   "cell_type": "markdown",
   "metadata": {},
   "source": [
    "## 2. Hàm Phân tích Schema\n",
    "\n",
    "Hàm này chịu trách nhiệm đọc tệp schema và trích xuất thông tin cần thiết (mô tả bảng, mô tả cột)."
   ]
  },
  {
   "cell_type": "code",
   "execution_count": 2,
   "metadata": {},
   "outputs": [],
   "source": [
    "def parse_schema_for_descriptions(file_path):\n",
    "    \"\"\"\n",
    "    Parses the schema file to extract table and column descriptions.\n",
    "    \"\"\"\n",
    "    print(f\"Đang phân tích tệp schema: {file_path}\")\n",
    "    if not os.path.exists(file_path):\n",
    "        print(f\"LỖI: Không tìm thấy tệp {file_path}\")\n",
    "        return {}\n",
    "\n",
    "    schema_info = {}\n",
    "    current_table = None\n",
    "    with open(file_path, 'r', encoding='utf-8') as f:\n",
    "        for line in f:\n",
    "            line = line.strip()\n",
    "            if line.startswith('# Table:'):\n",
    "                current_table = line.replace('# Table:', '').strip()\n",
    "                schema_info[current_table] = {'description': '', 'columns': []}\n",
    "            elif line.startswith('【Table Description】'):\n",
    "                if current_table:\n",
    "                    desc_text = line.replace('【Table Description】', '').strip().strip('\"')\n",
    "                    schema_info[current_table]['description'] = desc_text\n",
    "            elif current_table and line.startswith('('):\n",
    "                # Regex để trích xuất tên cột và mô tả từ định dạng: (column_name:TYPE, \"Description.\", ...)\n",
    "                match = re.search(r'\\((?P<name>\\w+):.*?, \"(?P<desc>.*?)\"', line)\n",
    "                if match:\n",
    "                    col_name = match.group('name')\n",
    "                    col_desc = match.group('desc')\n",
    "                    schema_info[current_table]['columns'].append({\n",
    "                        'name': col_name,\n",
    "                        'description': col_desc\n",
    "                    })\n",
    "    print(\"Phân tích schema hoàn tất.\")\n",
    "    return schema_info"
   ]
  },
  {
   "cell_type": "markdown",
   "metadata": {},
   "source": [
    "## 3. Logic Chính: Xây dựng và Lưu trữ Database\n",
    "\n",
    "Cell này chứa logic chính để thực hiện quá trình xây dựng DB vector. Nó sẽ:\n",
    "1.  Gọi hàm `parse_schema`.\n",
    "2.  Khởi tạo ChromaDB client.\n",
    "3.  Nạp mô hình `sentence-transformer`.\n",
    "4.  Chuẩn bị dữ liệu (documents, metadatas, ids).\n",
    "5.  Tạo embeddings và thêm vào collection của ChromaDB."
   ]
  },
  {
   "cell_type": "code",
   "execution_count": 3,
   "metadata": {},
   "outputs": [
    {
     "name": "stdout",
     "output_type": "stream",
     "text": [
      "Đang phân tích tệp schema: m-schema_final.txt\n",
      "Phân tích schema hoàn tất.\n",
      "ChromaDB client đã khởi tạo. Collection 'schema_descriptions' đã sẵn sàng.\n",
      "Đang tải mô hình sentence-transformer: 'all-MiniLM-L6-v2'...\n",
      "Tải mô hình thành công.\n",
      "Đã chuẩn bị 78 văn bản để tạo embedding.\n",
      "Đang tạo embeddings cho tất cả văn bản...\n",
      "Tạo embeddings hoàn tất.\n",
      "\n",
      "--- Xây dựng Cơ sở dữ liệu Vector HOÀN TẤT! ---\n",
      "Tổng số documents đã được lập chỉ mục: 78\n",
      "Cơ sở dữ liệu đã được lưu tại: c:\\Users\\Lenovo\\OneDrive\\Máy tính\\simple-chicken\\PythonTextToSql\\Method\\Offline\\build_vector_db\\vector_database\n"
     ]
    }
   ],
   "source": [
    "# 1. Parse schema file\n",
    "schema_data = parse_schema_for_descriptions(SCHEMA_FILE_PATH)\n",
    "\n",
    "if schema_data:\n",
    "    # 2. Initialize ChromaDB client and collection\n",
    "    client = chromadb.PersistentClient(path=VECTOR_DB_PATH)\n",
    "    collection = client.get_or_create_collection(name=COLLECTION_NAME)\n",
    "    print(f\"ChromaDB client đã khởi tạo. Collection '{COLLECTION_NAME}' đã sẵn sàng.\")\n",
    "\n",
    "    # 3. Load the embedding model\n",
    "    print(f\"Đang tải mô hình sentence-transformer: '{MODEL_NAME}'...\")\n",
    "    model = SentenceTransformer(MODEL_NAME)\n",
    "    print(\"Tải mô hình thành công.\")\n",
    "\n",
    "    # 4. Prepare data for embedding\n",
    "    documents = []\n",
    "    metadatas = []\n",
    "    ids = []\n",
    "    id_counter = 1\n",
    "\n",
    "    for table_name, info in schema_data.items():\n",
    "        if info['description']:\n",
    "            documents.append(info['description'])\n",
    "            metadatas.append({'source': 'table_description', 'table': table_name})\n",
    "            ids.append(f\"doc_{id_counter}\")\n",
    "            id_counter += 1\n",
    "            \n",
    "        for col in info['columns']:\n",
    "            if col['description']:\n",
    "                doc_text = f\"Column '{col['name']}' in table '{table_name}': {col['description']}\"\n",
    "                documents.append(doc_text)\n",
    "                metadatas.append({'source': 'column_description', 'table': table_name, 'column': col['name']})\n",
    "                ids.append(f\"doc_{id_counter}\")\n",
    "                id_counter += 1\n",
    "\n",
    "    print(f\"Đã chuẩn bị {len(documents)} văn bản để tạo embedding.\")\n",
    "\n",
    "    # 5. Generate embeddings and add to collection\n",
    "    if documents:\n",
    "        print(\"Đang tạo embeddings cho tất cả văn bản...\")\n",
    "        embeddings = model.encode(documents).tolist()\n",
    "        print(\"Tạo embeddings hoàn tất.\")\n",
    "        \n",
    "        # Xóa collection cũ để đảm bảo dữ liệu mới nhất\n",
    "        client.delete_collection(name=COLLECTION_NAME)\n",
    "        collection = client.create_collection(name=COLLECTION_NAME)\n",
    "\n",
    "        # Thêm dữ liệu vào collection\n",
    "        collection.add(\n",
    "            ids=ids,\n",
    "            embeddings=embeddings,\n",
    "            documents=documents,\n",
    "            metadatas=metadatas\n",
    "        )\n",
    "        print(\"\\n--- Xây dựng Cơ sở dữ liệu Vector HOÀN TẤT! ---\")\n",
    "        print(f\"Tổng số documents đã được lập chỉ mục: {collection.count()}\")\n",
    "        print(f\"Cơ sở dữ liệu đã được lưu tại: {os.path.abspath(VECTOR_DB_PATH)}\")\n",
    "    else:\n",
    "        print(\"Không có văn bản mô tả nào để lập chỉ mục.\")"
   ]
  }
 ],
 "metadata": {
  "kernelspec": {
   "display_name": "t2sql",
   "language": "python",
   "name": "python3"
  },
  "language_info": {
   "codemirror_mode": {
    "name": "ipython",
    "version": 3
   },
   "file_extension": ".py",
   "mimetype": "text/x-python",
   "name": "python",
   "nbconvert_exporter": "python",
   "pygments_lexer": "ipython3",
   "version": "3.9.23"
  }
 },
 "nbformat": 4,
 "nbformat_minor": 2
}
